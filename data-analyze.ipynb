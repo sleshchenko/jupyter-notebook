from plotly.offline import download_plotlyjs, init_notebook_mode, plot, iplot

import plotly.figure_factory as ff
import pandas as pd

init_notebook_mode(connected=True)

df = pd.read_csv("https://raw.githubusercontent.com/plotly/datasets/master/Emissions%20Data.csv")

table = ff.create_table(df)

iplot(table, filename='jupyter-table1')

import plotly.graph_objs as go

class CountryDataHolder:
    def __init__(self, name):
        self.name = name
        self.data = []

    def push(self, value):
        self.data.append(value)

    def getAvarageData(self):
        return sum(self.data)/len(self.data)
dataHolders = dict()
for index, row in df.iterrows() :
    countryName = row['Country'];
    dataHolder = dataHolders.get(countryName, CountryDataHolder(countryName))
    dataHolder.push(row['Emission'])
    dataHolders.update({countryName: dataHolder})

avdf = pd.DataFrame(columns=['Country', 'Avarage Emmission'])
i = 0
for key,val in dataHolders.items():
    avdf.loc[i] = [key, val.getAvarageData()]
    i = i+1

i=0


max5df = avdf.sort_values(by=['Avarage Emmission'],ascending=False).head(5)

data = [
    go.Bar(
        x=max5df['Country'], # assign x as the dataframe column 'x'
        y=max5df['Avarage Emmission']
    )
]


iplot(data, filename='maxdf')



min5df = avdf.sort_values(by=['Avarage Emmission'],ascending=True).head(5)

data = [
    go.Bar(
        x=min5df['Country'], # assign x as the dataframe column 'x'
        y=min5df['Avarage Emmission']
    )
]


iplot(data, filename='maxdf')

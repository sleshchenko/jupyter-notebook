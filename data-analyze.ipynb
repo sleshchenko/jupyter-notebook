{
 "cells": [
  {
   "cell_type": "markdown",
   "metadata": {},
   "source": [
    "# Open Dataset | Emissions Data"
   ]
  },
  {
   "cell_type": "code",
   "execution_count": null,
   "metadata": {},
   "outputs": [],
   "source": [
    "from plotly.offline import download_plotlyjs, init_notebook_mode, plot, iplot\n",
    "\n",
    "import plotly.figure_factory as ff\n",
    "import pandas as pd\n",
    "\n",
    "init_notebook_mode(connected=True)\n",
    "\n",
    "df = pd.read_csv(\"https://raw.githubusercontent.com/plotly/datasets/master/Emissions%20Data.csv\")\n",
    "\n",
    "table = ff.create_table(df)\n",
    "\n",
    "iplot(table, filename='jupyter-table1')"
   ]
  },
  {
   "cell_type": "markdown",
   "metadata": {},
   "source": [
    "### Avarage amount of emissions grouped by continents"
   ]
  },
  {
   "cell_type": "code",
   "execution_count": null,
   "metadata": {},
   "outputs": [],
   "source": [
    "import plotly.graph_objs as go\n",
    "\n",
    "class DataHolder:\n",
    "    def __init__(self, name):\n",
    "        self.name = name\n",
    "        self.data = []\n",
    "\n",
    "    def push(self, value):\n",
    "        self.data.append(value)\n",
    "\n",
    "    def getAvarageData(self):\n",
    "        return sum(self.data)/len(self.data)\n",
    "\n",
    "dataHolders = dict()\n",
    "for index, row in df.iterrows() :\n",
    "    countryName = row['Continent'];\n",
    "    dataHolder = dataHolders.get(countryName, DataHolder(countryName))\n",
    "    dataHolder.push(row['Emission'])\n",
    "    dataHolders.update({countryName: dataHolder})\n",
    "\n",
    "avdf = pd.DataFrame(columns=['Continent', 'Avarage Emmission'])\n",
    "i = 0\n",
    "for key,val in dataHolders.items():\n",
    "    avdf.loc[i] = [key, val.getAvarageData()]\n",
    "    i = i+1\n",
    "\n",
    "i=0\n",
    "\n",
    "\n",
    "data = [\n",
    "    go.Bar(\n",
    "        x=avdf['Continent'], # assign x as the dataframe column 'x'\n",
    "        y=avdf['Avarage Emmission']\n",
    "    )\n",
    "]\n",
    "\n",
    "iplot(data, filename='continentemissions')"
   ]
  },
  {
   "cell_type": "markdown",
   "metadata": {},
   "source": [
    "### 5 Countries with the biggest avarage amount of emissions"
   ]
  },
  {
   "cell_type": "code",
   "execution_count": null,
   "metadata": {},
   "outputs": [],
   "source": [
    "import plotly.graph_objs as go\n",
    "\n",
    "dataHolders = dict()\n",
    "for index, row in df.iterrows() :\n",
    "    countryName = row['Country'];\n",
    "    dataHolder = dataHolders.get(countryName, DataHolder(countryName))\n",
    "    dataHolder.push(row['Emission'])\n",
    "    dataHolders.update({countryName: dataHolder})\n",
    "\n",
    "avdf = pd.DataFrame(columns=['Country', 'Avarage Emmission'])\n",
    "i = 0\n",
    "for key,val in dataHolders.items():\n",
    "    avdf.loc[i] = [key, val.getAvarageData()]\n",
    "    i = i+1\n",
    "\n",
    "i=0\n",
    "\n",
    "\n",
    "max5df = avdf.sort_values(by=['Avarage Emmission'],ascending=False).head(5)\n",
    "\n",
    "data = [\n",
    "    go.Bar(\n",
    "        x=max5df['Country'], # assign x as the dataframe column 'x'\n",
    "        y=max5df['Avarage Emmission']\n",
    "    )\n",
    "]\n",
    "\n",
    "\n",
    "iplot(data, filename='mindf')"
   ]
  },
  {
   "cell_type": "markdown",
   "metadata": {},
   "source": [
    "### 5 Countries with the smallest avarage amount of emissions"
   ]
  },
  {
   "cell_type": "code",
   "execution_count": null,
   "metadata": {},
   "outputs": [],
   "source": [
    "min5df = avdf.sort_values(by=['Avarage Emmission'],ascending=True).head(5)\n",
    "\n",
    "data = [\n",
    "    go.Bar(\n",
    "        x=min5df['Country'], # assign x as the dataframe column 'x'\n",
    "        y=min5df['Avarage Emmission']\n",
    "    )\n",
    "]\n",
    "\n",
    "\n",
    "iplot(data, filename='maxdf')"
   ]
  }
 ],
 "metadata": {
  "kernelspec": {
   "display_name": "Python 3",
   "language": "python",
   "name": "python3"
  },
  "language_info": {
   "codemirror_mode": {
    "name": "ipython",
    "version": 3
   },
   "file_extension": ".py",
   "mimetype": "text/x-python",
   "name": "python",
   "nbconvert_exporter": "python",
   "pygments_lexer": "ipython3",
   "version": "3.6.5"
  }
 },
 "nbformat": 4,
 "nbformat_minor": 2
}

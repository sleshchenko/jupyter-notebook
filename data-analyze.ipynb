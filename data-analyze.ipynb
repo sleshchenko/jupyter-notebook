from plotly.offline import download_plotlyjs, init_notebook_mode, plot, iplot

import plotly.figure_factory as ff
import pandas as pd

init_notebook_mode(connected=True)

df = pd.read_csv("https://raw.githubusercontent.com/plotly/datasets/master/Emissions%20Data.csv")

table = ff.create_table(df)

iplot(table, filename='jupyter-table1')
